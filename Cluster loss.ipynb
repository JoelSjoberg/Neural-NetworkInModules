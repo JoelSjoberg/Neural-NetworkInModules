{
 "cells": [
  {
   "cell_type": "code",
   "execution_count": 1,
   "metadata": {
    "ExecuteTime": {
     "end_time": "2021-09-20T05:48:32.910581Z",
     "start_time": "2021-09-20T05:48:30.664588Z"
    }
   },
   "outputs": [],
   "source": [
    "import numpy as np\n",
    "import matplotlib.pyplot as plt\n",
    "\n",
    "%matplotlib inline"
   ]
  },
  {
   "cell_type": "code",
   "execution_count": 2,
   "metadata": {
    "ExecuteTime": {
     "end_time": "2021-09-20T05:48:32.926199Z",
     "start_time": "2021-09-20T05:48:32.910581Z"
    }
   },
   "outputs": [],
   "source": [
    "np.set_printoptions(suppress=True,\n",
    "   formatter={'float_kind':'{:16.3f}'.format}, linewidth=130)"
   ]
  },
  {
   "cell_type": "code",
   "execution_count": 5,
   "metadata": {
    "ExecuteTime": {
     "end_time": "2021-09-20T05:49:32.755504Z",
     "start_time": "2021-09-20T05:49:32.685510Z"
    }
   },
   "outputs": [],
   "source": [
    "def identity(x):\n",
    "    return x\n",
    "\n",
    "def relu(x):\n",
    "    \n",
    "    # One line return statement is dope!\n",
    "    return np.where(x > 0, x, 0)\n",
    "\n",
    "def l_relu(x, a = 0.01):\n",
    "    \n",
    "    # One line return statement is dope!\n",
    "    return np.where(x > 0, x, a*x)\n",
    "\n",
    "def sine(x):\n",
    "    \n",
    "    return np.sin(x)\n",
    "\n",
    "def cos(x):\n",
    "    \n",
    "    return np.cos(x)\n",
    "\n",
    "def tanh(x):\n",
    "    return np.tanh(x)\n",
    "\n",
    "def sigmoid(x):\n",
    "    return 1/(1+np.exp(-x))"
   ]
  },
  {
   "cell_type": "code",
   "execution_count": 16,
   "metadata": {
    "ExecuteTime": {
     "end_time": "2021-09-20T06:01:06.942846Z",
     "start_time": "2021-09-20T06:01:06.656888Z"
    }
   },
   "outputs": [
    {
     "data": {
      "image/png": "[encoded data removed]",
      "text/plain": [
       "<matplotlib.figure.Figure at 0x1d95c3caa90>"
      ]
     },
     "metadata": {},
     "output_type": "display_data"
    },
    {
     "data": {
      "image/png": "[encoded data removed]",
      "text/plain": [
       "<matplotlib.figure.Figure at 0x1d95c54a0b8>"
      ]
     },
     "metadata": {},
     "output_type": "display_data"
    }
   ],
   "source": [
    "# Experimental: Yield the approximation of the derivative of function f at point x\n",
    "def get_derivative(f, x, offset = 0.01):\n",
    "    \n",
    "    # Define points between which derivative is approximated\n",
    "    vec1 = np.array([x - offset, f(x - offset)])\n",
    "    vec2 = np.array([x + offset, f(x + offset)])\n",
    "    \n",
    "    # Get the vector between the two points\n",
    "    sub = vec2 - vec1\n",
    "    \n",
    "    # Return the slope (rise over run echoes in your head)\n",
    "    return sub[1]/sub[0]\n",
    "\n",
    "\n",
    "activation = tanh\n",
    "# Method used for mapping multiple values to the get_derivative method.\n",
    "def test_approximation(x):\n",
    "    return get_derivative(activation, x)\n",
    "\n",
    "line = np.linspace(-5, 5, num = 500)\n",
    "\n",
    "plt.plot(line, list(map(activation, line)))\n",
    "plt.show()\n",
    "plt.plot(line, list(map(test_approximation, line)))\n",
    "plt.show()"
   ]
  },
  {
   "cell_type": "code",
   "execution_count": 30,
   "metadata": {
    "ExecuteTime": {
     "end_time": "2021-09-20T11:05:28.854669Z",
     "start_time": "2021-09-20T11:05:28.811121Z"
    }
   },
   "outputs": [],
   "source": [
    "def radial_basis_function(x, y, sig):\n",
    "    return np.exp(-np.power((np.abs(x - y) * sig), 2))"
   ]
  },
  {
   "cell_type": "code",
   "execution_count": 53,
   "metadata": {
    "ExecuteTime": {
     "end_time": "2021-09-20T11:55:44.744483Z",
     "start_time": "2021-09-20T11:55:44.713491Z"
    }
   },
   "outputs": [
    {
     "name": "stdout",
     "output_type": "stream",
     "text": [
      "[           1.000            1.000]\n",
      "[           1.000            1.000]\n",
      "[           1.000            1.000]\n",
      "[           0.999            0.999]\n",
      "[           0.998            0.998]\n",
      "[           0.998            0.998]\n",
      "[           0.996            0.996]\n",
      "[           0.995            0.995]\n",
      "[           0.994            0.994]\n",
      "[           0.992            0.992]\n",
      "[           0.990            0.990]\n",
      "[           0.988            0.988]\n",
      "[           0.986            0.986]\n",
      "[           0.983            0.983]\n",
      "[           0.981            0.981]\n",
      "[           0.978            0.978]\n",
      "[           0.975            0.975]\n",
      "[           0.972            0.972]\n",
      "[           0.968            0.968]\n",
      "[           0.965            0.965]\n",
      "[           0.961            0.961]\n",
      "[           0.957            0.957]\n",
      "[           0.953            0.953]\n",
      "[           0.948            0.948]\n",
      "[           0.944            0.944]\n",
      "[           0.939            0.939]\n",
      "[           0.935            0.935]\n",
      "[           0.930            0.930]\n",
      "[           0.925            0.925]\n",
      "[           0.919            0.919]\n",
      "[           0.914            0.914]\n",
      "[           0.908            0.908]\n",
      "[           0.903            0.903]\n",
      "[           0.897            0.897]\n",
      "[           0.891            0.891]\n",
      "[           0.885            0.885]\n",
      "[           0.878            0.878]\n",
      "[           0.872            0.872]\n",
      "[           0.866            0.866]\n",
      "[           0.859            0.859]\n",
      "[           0.852            0.852]\n",
      "[           0.845            0.845]\n",
      "[           0.838            0.838]\n",
      "[           0.831            0.831]\n",
      "[           0.824            0.824]\n",
      "[           0.817            0.817]\n",
      "[           0.809            0.809]\n",
      "[           0.802            0.802]\n",
      "[           0.794            0.794]\n",
      "[           0.787            0.787]\n",
      "[           0.779            0.779]\n",
      "[           0.771            0.771]\n",
      "[           0.763            0.763]\n",
      "[           0.755            0.755]\n",
      "[           0.747            0.747]\n",
      "[           0.739            0.739]\n",
      "[           0.731            0.731]\n",
      "[           0.723            0.723]\n",
      "[           0.714            0.714]\n",
      "[           0.706            0.706]\n",
      "[           0.698            0.698]\n",
      "[           0.689            0.689]\n",
      "[           0.681            0.681]\n",
      "[           0.672            0.672]\n",
      "[           0.664            0.664]\n",
      "[           0.655            0.655]\n",
      "[           0.647            0.647]\n",
      "[           0.638            0.638]\n",
      "[           0.630            0.630]\n",
      "[           0.621            0.621]\n",
      "[           0.613            0.613]\n",
      "[           0.604            0.604]\n",
      "[           0.595            0.595]\n",
      "[           0.587            0.587]\n",
      "[           0.578            0.578]\n",
      "[           0.570            0.570]\n",
      "[           0.561            0.561]\n",
      "[           0.553            0.553]\n",
      "[           0.544            0.544]\n",
      "[           0.536            0.536]\n",
      "[           0.527            0.527]\n",
      "[           0.519            0.519]\n",
      "[           0.510            0.510]\n",
      "[           0.502            0.502]\n",
      "[           0.494            0.494]\n",
      "[           0.486            0.486]\n",
      "[           0.477            0.477]\n",
      "[           0.469            0.469]\n",
      "[           0.461            0.461]\n",
      "[           0.453            0.453]\n",
      "[           0.445            0.445]\n",
      "[           0.437            0.437]\n",
      "[           0.429            0.429]\n",
      "[           0.421            0.421]\n",
      "[           0.413            0.413]\n",
      "[           0.406            0.406]\n",
      "[           0.398            0.398]\n",
      "[           0.390            0.390]\n",
      "[           0.383            0.383]\n",
      "[           0.375            0.375]\n"
     ]
    }
   ],
   "source": [
    "for i in range(100):\n",
    "    print(radial_basis_function(np.array([0, 0]), np.array([i, i]), 0.01))"
   ]
  },
  {
   "cell_type": "markdown",
   "metadata": {},
   "source": [
    "# Loss functions"
   ]
  },
  {
   "cell_type": "code",
   "execution_count": 17,
   "metadata": {
    "ExecuteTime": {
     "end_time": "2021-09-20T06:01:22.595408Z",
     "start_time": "2021-09-20T06:01:22.556413Z"
    }
   },
   "outputs": [
    {
     "data": {
      "text/plain": [
       "(array([           0.250,            1.000]),\n",
       " array([          -1.000,           -2.000]))"
      ]
     },
     "execution_count": 17,
     "metadata": {},
     "output_type": "execute_result"
    }
   ],
   "source": [
    "def MSE(y_p, y_t):\n",
    "    \n",
    "    \n",
    "    error = np.square(y_p - y_t) * 1/(2 * len(y_p))\n",
    "    \n",
    "    d_error = 2 * (y_p - y_t) * 1/len(y_p)\n",
    "        \n",
    "    return np.nan_to_num(error), np.nan_to_num(d_error)\n",
    "\n",
    "#def meta_cluster():\n",
    "\n",
    "MSE(np.array([1, 1]), np.array([2, 3]))"
   ]
  },
  {
   "cell_type": "code",
   "execution_count": 20,
   "metadata": {
    "ExecuteTime": {
     "end_time": "2021-09-20T06:06:02.978001Z",
     "start_time": "2021-09-20T06:05:59.337938Z"
    },
    "scrolled": false
   },
   "outputs": [
    {
     "data": {
      "image/png": "[encoded data removed]",
      "text/plain": [
       "<matplotlib.figure.Figure at 0x1d95c90ef98>"
      ]
     },
     "metadata": {},
     "output_type": "display_data"
    },
    {
     "data": {
      "image/png": "[encoded data removed]",
      "text/plain": [
       "<matplotlib.figure.Figure at 0x1d95c8d7c50>"
      ]
     },
     "metadata": {},
     "output_type": "display_data"
    },
    {
     "data": {
      "image/png": "[encoded data removed]",
      "text/plain": [
       "<matplotlib.figure.Figure at 0x1d95cec2e80>"
      ]
     },
     "metadata": {},
     "output_type": "display_data"
    },
    {
     "data": {
      "image/png": "[encoded data removed]",
      "text/plain": [
       "<matplotlib.figure.Figure at 0x1d95c4fdb00>"
      ]
     },
     "metadata": {},
     "output_type": "display_data"
    },
    {
     "data": {
      "image/png": "[encoded data removed]",
      "text/plain": [
       "<matplotlib.figure.Figure at 0x1d95c539710>"
      ]
     },
     "metadata": {},
     "output_type": "display_data"
    },
    {
     "data": {
      "image/png": "[encoded data removed]",
      "text/plain": [
       "<matplotlib.figure.Figure at 0x1d95c407358>"
      ]
     },
     "metadata": {},
     "output_type": "display_data"
    },
    {
     "data": {
      "image/png": "[encoded data removed]",
      "text/plain": [
       "<matplotlib.figure.Figure at 0x1d95c4656a0>"
      ]
     },
     "metadata": {},
     "output_type": "display_data"
    },
    {
     "data": {
      "image/png": "[encoded data removed]",
      "text/plain": [
       "<matplotlib.figure.Figure at 0x1d95c4d1c88>"
      ]
     },
     "metadata": {},
     "output_type": "display_data"
    },
    {
     "data": {
      "image/png": "[encoded data removed]",
      "text/plain": [
       "<matplotlib.figure.Figure at 0x1d95c2b5cf8>"
      ]
     },
     "metadata": {},
     "output_type": "display_data"
    },
    {
     "data": {
      "image/png": "[encoded data removed]",
      "text/plain": [
       "<matplotlib.figure.Figure at 0x1d95e3b34e0>"
      ]
     },
     "metadata": {},
     "output_type": "display_data"
    },
    {
     "data": {
      "image/png": "[encoded data removed]",
      "text/plain": [
       "<matplotlib.figure.Figure at 0x1d95c4815c0>"
      ]
     },
     "metadata": {},
     "output_type": "display_data"
    },
    {
     "data": {
      "image/png": "[encoded data removed]",
      "text/plain": [
       "<matplotlib.figure.Figure at 0x1d95c93c5c0>"
      ]
     },
     "metadata": {},
     "output_type": "display_data"
    },
    {
     "data": {
      "image/png": "[encoded data removed]",
      "text/plain": [
       "<matplotlib.figure.Figure at 0x1d95c4f8e80>"
      ]
     },
     "metadata": {},
     "output_type": "display_data"
    },
    {
     "data": {
      "image/png": "[encoded data removed]",
      "text/plain": [
       "<matplotlib.figure.Figure at 0x1d95c695438>"
      ]
     },
     "metadata": {},
     "output_type": "display_data"
    },
    {
     "data": {
      "image/png": "[encoded data removed]",
      "text/plain": [
       "<matplotlib.figure.Figure at 0x1d95c2d27f0>"
      ]
     },
     "metadata": {},
     "output_type": "display_data"
    },
    {
     "data": {
      "image/png": "[encoded data removed]",
      "text/plain": [
       "<matplotlib.figure.Figure at 0x1d95c91a0b8>"
      ]
     },
     "metadata": {},
     "output_type": "display_data"
    },
    {
     "data": {
      "image/png": "[encoded data removed]",
      "text/plain": [
       "<matplotlib.figure.Figure at 0x1d95c299fd0>"
      ]
     },
     "metadata": {},
     "output_type": "display_data"
    },
    {
     "data": {
      "image/png": "[encoded data removed]",
      "text/plain": [
       "<matplotlib.figure.Figure at 0x1d95c6f9da0>"
      ]
     },
     "metadata": {},
     "output_type": "display_data"
    },
    {
     "data": {
      "image/png": "[encoded data removed]",
      "text/plain": [
       "<matplotlib.figure.Figure at 0x1d95d00e748>"
      ]
     },
     "metadata": {},
     "output_type": "display_data"
    },
    {
     "data": {
      "image/png": "[encoded data removed]",
      "text/plain": [
       "<matplotlib.figure.Figure at 0x1d95cae2940>"
      ]
     },
     "metadata": {},
     "output_type": "display_data"
    },
    {
     "data": {
      "image/png": "[encoded data removed]",
      "text/plain": [
       "<matplotlib.figure.Figure at 0x1d95c4a9710>"
      ]
     },
     "metadata": {},
     "output_type": "display_data"
    }
   ],
   "source": [
    "def k_means(clusters, points, iters = 10):\n",
    "    \n",
    "    for i in range(iters):\n",
    "        \n",
    "        cluster_points = get_cluster_belonging(clusters, points)\n",
    "\n",
    "        for c in range(len(clusters)):\n",
    "\n",
    "            clusters[c] = np.mean(cluster_points[c], axis = 0)\n",
    "    \n",
    "    return clusters\n",
    "\n",
    "def get_cluster_belonging(clusters, points):\n",
    "    cluster_points = [[] for i in range(len(clusters))]\n",
    "    for e in points:\n",
    "\n",
    "        minimum_distance = None\n",
    "\n",
    "        cluster_dists = []\n",
    "\n",
    "        for cluster in clusters:\n",
    "\n",
    "            dist = np.sqrt(np.sum(np.power(cluster - e, 2)))\n",
    "\n",
    "            cluster_dists.append(dist)\n",
    "\n",
    "        index = np.argmin(cluster_dists)\n",
    "\n",
    "        cluster_points[index].append(e)\n",
    "        \n",
    "    return cluster_points\n",
    "\n",
    "\n",
    "points = np.random.random_sample((100, 2))\n",
    "            \n",
    "clusters = np.random.random_sample((6, 2))\n",
    "\n",
    "\n",
    "\n",
    "for c in clusters:\n",
    "    plt.scatter(c[0], c[1])\n",
    "plt.show()\n",
    "    \n",
    "for i in range(10):\n",
    "    k_means(clusters, points, iters = 1)\n",
    "\n",
    "    for c in clusters:\n",
    "        plt.scatter(c[0], c[1])\n",
    "    plt.show()\n",
    "\n",
    "\n",
    "    point_array = get_cluster_belonging(clusters, points)\n",
    "    for c in point_array:\n",
    "        plt.scatter(np.array(c).T[0], np.array(c).T[1])\n",
    "    plt.show()\n",
    "\n",
    "\n",
    "\n"
   ]
  },
  {
   "cell_type": "markdown",
   "metadata": {},
   "source": [
    "# Layer classes\n"
   ]
  },
  {
   "cell_type": "code",
   "execution_count": 21,
   "metadata": {
    "ExecuteTime": {
     "end_time": "2021-09-20T06:06:23.023740Z",
     "start_time": "2021-09-20T06:06:22.568208Z"
    }
   },
   "outputs": [],
   "source": [
    "# Super class of layers\n",
    "class Layer(object):\n",
    "    \n",
    "    def __init__(self):\n",
    "        \n",
    "        self.signal = None\n",
    "        self.derivative = None\n",
    "        self.error = None\n",
    "        self.gradient = []\n",
    "        self.activation = identity\n",
    "        \n",
    "    def get_params(self):\n",
    "        return None\n",
    "        \n",
    "    \n",
    "class graph:\n",
    "    \n",
    "    def __init__(self, size, activation = identity, iters = 2, W = None):\n",
    "        \n",
    "        if W == None:\n",
    "            size = (size, size + 1)\n",
    "            self.W = np.random.random_sample(size) - 0.5\n",
    "        else:\n",
    "            self.W = W\n",
    "        \n",
    "        self.activation = activation\n",
    "        self.iters = iters\n",
    "    \n",
    "    def get_params(self):\n",
    "        return self.W\n",
    "    \n",
    "    def feed_forward(self, inp, train = True):\n",
    "        \n",
    "        self.signal = inp\n",
    "        for i in range(self.iters):\n",
    "            # Append bias\n",
    "            inp = np.append(inp, 1)\n",
    "            inp = self.activation(self.W.dot(inp))\n",
    "        \n",
    "        return inp\n",
    "    \n",
    "        \n",
    "class scaling(Layer):\n",
    "    def __init__(self, scalar = None):\n",
    "        \n",
    "        self.scalar = scalar\n",
    "        \n",
    "    def get_params(self):\n",
    "        return self.scalar\n",
    "    \n",
    "    def feed_forward(self, inp, train = True):\n",
    "            \n",
    "        self.signal = inp\n",
    "        if self.scalar == None:\n",
    "            return inp * 1/np.max(np.abs(inp))\n",
    "            \n",
    "        return inp * self.scalar\n",
    "    \n",
    "    \n",
    "class dropout:\n",
    "    \n",
    "    def __init__(self, rate = 0.1):\n",
    "        \n",
    "        self.rate = rate\n",
    "        \n",
    "    def get_params(self):\n",
    "        return self.rate   \n",
    "    \n",
    "    def feed_forward(self, inp, train = True):\n",
    "        \n",
    "        self.signal = inp\n",
    "        \n",
    "        if train == False:\n",
    "            # Only drop on train\n",
    "            return inp\n",
    "    \n",
    "        mask = np.random.random_sample(inp.shape)\n",
    "        \n",
    "        mask = np.where(mask > self.rate, 1, 0)\n",
    "        \n",
    "        return np.multiply(inp, mask)\n",
    "\n",
    "\n",
    "    \n",
    "class fullyConnected(Layer):\n",
    "    def __init__(self, size, activation = identity, W = None):\n",
    "        \n",
    "        if W == None:\n",
    "            size = (size[0], size[1]+1)\n",
    "            self.W = np.random.random_sample(size) - 0.5\n",
    "        else:\n",
    "            self.W = W\n",
    "        \n",
    "        self.activation = activation\n",
    "        \n",
    "        self.gradients = []\n",
    "    \n",
    "    def approximate_derivative(self, x):\n",
    "        return get_derivative(self.activation, x)\n",
    "    \n",
    "    def get_params(self):\n",
    "        return self.W\n",
    "    \n",
    "    def feed_forward(self, inp, train = True):\n",
    "        \n",
    "        # Append bias\n",
    "        inp = np.append(inp, 1)\n",
    "        \n",
    "        self.signal = inp\n",
    "        \n",
    "        if train:\n",
    "            self.derivative = list(map(self.approximate_derivative, self.W.dot(inp)))\n",
    "            self.derivative = np.array(self.derivative).T\n",
    "        \n",
    "        return self.activation(self.W.dot(inp))\n",
    "    \n",
    "    \n",
    "    def compute_gradient(self, err, prev_input):\n",
    "        \n",
    "        \n",
    "        error = err.reshape(len(err), 1) * self.W\n",
    "\n",
    "        error = error * self.derivative.reshape(len(self.derivative), 1)\n",
    "        error = np.sum(error, axis = 0)\n",
    "        \n",
    "        # Remove error of bias node\n",
    "        error = error[:-1]\n",
    "        #print(\"e1\", error.shape, prev_input.shape)\n",
    "        \n",
    "        # Reshape prev_input to allow for dot product\n",
    "        prev_input = prev_input.reshape(1, len(prev_input))\n",
    "        \n",
    "        # Error reshape is done here, it must not have the reshape when returning it!\n",
    "        # Only the gradient requires this shape of error\n",
    "        gradient =  error.reshape(len(error), 1).dot(prev_input)\n",
    "        \n",
    "        return (error, gradient)\n",
    "        \n",
    "    def update(self, alpha):\n",
    "        \n",
    "        for gradient in self.gradients:\n",
    "            self.W -= alpha * gradient * 1/len(self.gradients)\n",
    "            \n",
    "        # Remember to reset gradient after update\n",
    "        self.gradients = []"
   ]
  },
  {
   "cell_type": "code",
   "execution_count": 22,
   "metadata": {
    "ExecuteTime": {
     "end_time": "2021-09-20T06:06:29.689492Z",
     "start_time": "2021-09-20T06:06:29.276457Z"
    },
    "scrolled": true
   },
   "outputs": [],
   "source": [
    "class Model:\n",
    "    \n",
    "    def __init__(self, layers = None):\n",
    "        \n",
    "        if layers == None:\n",
    "            self.layers = []\n",
    "            \n",
    "        else:\n",
    "            self.layers = layers\n",
    "            \n",
    "        self.history = {\n",
    "            \"error\" : [],\n",
    "            \"acc\" : []\n",
    "        }\n",
    "        \n",
    "    def add(self, layer):\n",
    "        \n",
    "        self.layers.append(layer)\n",
    "    \n",
    "    # Admin methods (training algorithm, optimization)\n",
    "    \n",
    "    # Feed forward, save the derivatives and such\n",
    "    def compute(self, x):\n",
    "        \n",
    "        for layer in self.layers:\n",
    "            x = layer.feed_forward(x, train = True)\n",
    "        return x\n",
    "        \n",
    "    \n",
    "    def compute_gradient(self, x, y):\n",
    "        \n",
    "        gradient = None\n",
    "        \n",
    "        pred = self.compute(x)\n",
    "        \n",
    "        # Compute Error\n",
    "        out_derivative = self.layers[-1].derivative\n",
    "        Error, error_derivative = MSE(pred, y)\n",
    "        #print(\"Error:\",Error)\n",
    "        # Calculate gradient\n",
    "        \n",
    "        # First step\n",
    "        \n",
    "        error = error_derivative #* out_derivative\n",
    "\n",
    "        # signal is the input signal of the layer, we propagate backwards now\n",
    "        signal_n = self.layers[-1].signal\n",
    "        gradient = error.reshape(len(error), 1) * signal_n.reshape(1, len(signal_n))\n",
    "        self.layers[-1].gradients.append(gradient)\n",
    "\n",
    "        # Second step, continuing backwards through the complete structure\n",
    "        for i in reversed(range(1, len(self.layers))):\n",
    "            \n",
    "            # Sanity check variables\n",
    "            layer = self.layers[i]\n",
    "            prev_signal = self.layers[i-1].signal\n",
    "            \n",
    "            # Use specified method for computing the gradient\n",
    "            error, gradient = layer.compute_gradient(error, prev_signal)\n",
    "            self.layers[i-1].gradients.append(gradient)\n",
    "        return Error\n",
    "        \n",
    "    def update_layers(self, alpha = 0.0003):\n",
    "        \n",
    "        for layer in self.layers:\n",
    "            layer.update(alpha)\n",
    "    \n",
    "    \n",
    "    # Train on batch x with labels y, this runs for one epoch. Both inputs must be iterables!\n",
    "    def batch_update(self, x, y, alpha = 0.0003):\n",
    "        \n",
    "        \n",
    "        errors = []\n",
    "        \n",
    "        # For all examples in batch\n",
    "        for i in range(len(x)):\n",
    "            \n",
    "            e = self.compute_gradient(x[i], y[i])\n",
    "            \n",
    "            # Store statistics of the batch\n",
    "            errors.append(e)\n",
    "\n",
    "        \n",
    "        # Update the layers once the gradients have been stored\n",
    "        self.update_layers(alpha)\n",
    "        \n",
    "        return errors\n",
    "        \n",
    "    def train(self, x, y, epochs = 3, batch_size = 1, alpha = 0.0003, shuffle = True):\n",
    "        \n",
    "        \n",
    "        for e in range(epochs):\n",
    "            #print(\"epoch:\", e)\n",
    "            index = 0\n",
    "            errors = []\n",
    "            \n",
    "            # Shuffle the dataset\n",
    "            if shuffle:\n",
    "                \n",
    "                shuffle_index = np.random.shuffle(np.arange(len(x)))\n",
    "                \n",
    "                x = x[shuffle_index][0]\n",
    "                y = y[shuffle_index][0]\n",
    "                \n",
    "            \n",
    "            while index < len(x):\n",
    "                batch_examples = x[index : index + batch_size]\n",
    "                batch_labels = y[index : index + batch_size]\n",
    "                \n",
    "                errors.append(self.batch_update(batch_examples, batch_labels, alpha))\n",
    "                \n",
    "                index = index + batch_size\n",
    "            \n",
    "            #errors = np.array(errors)\n",
    "            #self.history[\"error\"].append(np.mean(errors))\n",
    "                \n",
    "            \n",
    "        \n",
    "        \n",
    "    # End-user methods\n",
    "    \n",
    "    def predict(self, x):\n",
    "        for layer in self.layers:\n",
    "            x = layer.feed_forward(x, train = False)\n",
    "        return x\n",
    "\n",
    "    \n",
    "    \n",
    "np.random.seed(0)\n",
    "model = Model()\n",
    "inp_size = 50\n",
    "model.add(fullyConnected((1, inp_size), activation = relu))\n",
    "#model.add(fullyConnected((10, 10), activation = sine))\n",
    "#model.add(fullyConnected((10, 6), activation = relu))\n",
    "#model.add(scaling())\n",
    "#model.add(dropout(rate = 0.2))\n",
    "#model.add(graph(6, activation = tanh, iters = 3))\n",
    "#model.add(fullyConnected((1, 10), activation = relu))\n",
    "\n",
    "\n"
   ]
  },
  {
   "cell_type": "code",
   "execution_count": 57,
   "metadata": {
    "ExecuteTime": {
     "end_time": "2021-08-17T14:56:38.756075Z",
     "start_time": "2021-08-17T14:56:38.194516Z"
    }
   },
   "outputs": [
    {
     "name": "stderr",
     "output_type": "stream",
     "text": [
      "c:\\users\\joels\\appdata\\local\\programs\\python\\python36\\lib\\site-packages\\ipykernel_launcher.py:1: DeprecationWarning: This function is deprecated. Please call randint(0, 5 + 1) instead\n",
      "  \"\"\"Entry point for launching an IPython kernel.\n"
     ]
    },
    {
     "name": "stdout",
     "output_type": "stream",
     "text": [
      "(50,) 102.4437390192653\n",
      "epoch: 0\n",
      "epoch: 1\n",
      "epoch: 2\n",
      "epoch: 3\n",
      "epoch: 4\n",
      "epoch: 5\n",
      "epoch: 6\n",
      "epoch: 7\n",
      "epoch: 8\n",
      "epoch: 9\n",
      "[         106.186] 102.4437390192653 [          14.007]\n",
      "[         146.211] 143.67196836983342 [           6.448]\n",
      "[         121.558] 118.53880650503724 [           9.114]\n",
      "[         119.121] 115.3337731257047 [          14.344]\n",
      "[         143.575] 142.45601682578626 [           1.252]\n",
      "[         103.978] 102.85146688829762 [           1.268]\n",
      "[         136.497] 131.0007831395392 [          30.204]\n",
      "[         122.460] 119.22681516369498 [          10.453]\n",
      "[         135.406] 130.18037533365327 [          27.308]\n",
      "[         122.071] 120.85865757917529 [           1.470]\n",
      "[         134.423] 131.57698539868335 [           8.102]\n",
      "[         129.615] 129.631565936476 [           0.000]\n",
      "[         117.675] 114.12102276311249 [          12.633]\n",
      "[         110.773] 110.32911266754137 [           0.197]\n",
      "[         126.233] 122.33527864301332 [          15.189]\n",
      "[         133.074] 127.69389550926205 [          28.950]\n",
      "[         141.417] 137.0114875000946 [          19.408]\n",
      "[         116.432] 115.16545860307673 [           1.603]\n",
      "[         134.210] 130.8026008205979 [          11.613]\n",
      "[         123.646] 119.16942792045282 [          20.037]\n",
      "[         122.041] 119.58247567648924 [           6.046]\n",
      "[         129.923] 124.00660912822632 [          35.008]\n",
      "[         135.973] 132.44888033719266 [          12.419]\n",
      "[         130.479] 126.35247756250219 [          17.028]\n",
      "[         139.727] 137.04200451448304 [           7.209]\n",
      "[         139.270] 138.19740359769088 [           1.150]\n",
      "[         133.127] 131.49834379126904 [           2.651]\n",
      "[         120.249] 117.06386762933228 [          10.144]\n",
      "[         136.152] 132.35369491961436 [          14.426]\n",
      "[         151.242] 148.15018001212266 [           9.560]\n",
      "[         137.206] 132.44117359354775 [          22.707]\n",
      "[         131.646] 128.92257435313198 [           7.419]\n",
      "[         127.716] 127.67225118308325 [           0.002]\n",
      "[         109.965] 107.01506878430125 [           8.704]\n",
      "[         132.831] 132.90054189175555 [           0.005]\n",
      "[         139.498] 135.404717634153 [          16.757]\n",
      "[         125.065] 123.50320597206796 [           2.439]\n",
      "[         117.837] 115.94405746742666 [           3.584]\n",
      "[         130.754] 128.17416824770925 [           6.655]\n",
      "[         116.397] 114.12796881869028 [           5.149]\n",
      "[         126.274] 122.00685364885469 [          18.209]\n",
      "[         127.827] 125.98589186484823 [           3.391]\n",
      "[         138.436] 135.16776865509215 [          10.683]\n",
      "[         134.587] 128.9268287049215 [          32.040]\n",
      "[         135.712] 135.86024104277382 [           0.022]\n",
      "[         130.448] 126.33884611831978 [          16.882]\n",
      "[         121.082] 121.67385221313532 [           0.351]\n",
      "[         115.054] 115.47693590093161 [           0.179]\n",
      "[         134.505] 129.13883249240644 [          28.798]\n",
      "[         138.578] 134.6978745466091 [          15.054]\n",
      "[         127.344] 124.3807765319896 [           8.778]\n",
      "[         146.952] 146.02652203235533 [           0.857]\n",
      "[         134.505] 131.36368192284877 [           9.865]\n",
      "[         123.477] 120.78295744437138 [           7.261]\n",
      "[         108.822] 108.89780415508163 [           0.006]\n",
      "[         129.260] 126.75933502388385 [           6.252]\n",
      "[         133.463] 132.9913540356875 [           0.223]\n",
      "[         130.671] 129.30080836430335 [           1.876]\n",
      "[         115.593] 115.34779775868869 [           0.060]\n",
      "[         121.887] 119.02642353786499 [           8.182]\n",
      "[         134.528] 133.22213523899958 [           1.706]\n",
      "[         129.721] 129.49861507594636 [           0.050]\n",
      "[         121.582] 119.48573680124615 [           4.395]\n",
      "[         119.841] 119.07994057200668 [           0.579]\n",
      "[         136.093] 132.27078341518228 [          14.610]\n",
      "[         133.342] 131.80703671870057 [           2.356]\n",
      "[         131.213] 130.68320444245043 [           0.280]\n",
      "[         124.547] 122.75280123419252 [           3.219]\n",
      "[         123.004] 122.48752538935457 [           0.267]\n",
      "[         115.538] 113.78442215390767 [           3.077]\n",
      "[         117.792] 120.08776197911465 [           5.272]\n",
      "[         124.304] 118.93614805665737 [          28.813]\n",
      "[         128.534] 125.11587236214118 [          11.684]\n",
      "[         106.592] 104.41960262061797 [           4.720]\n",
      "[         138.077] 133.80564906822335 [          18.245]\n",
      "[         120.536] 118.23605531235944 [           5.289]\n",
      "[         121.422] 120.1966824955273 [           1.500]\n",
      "[         100.665] 99.41345167277609 [           1.567]\n",
      "[         103.145] 103.5600944113885 [           0.172]\n",
      "[         119.572] 117.17443585938558 [           5.747]\n",
      "[         122.400] 119.82874198412678 [           6.612]\n",
      "[         135.410] 134.10635763589033 [           1.699]\n",
      "[         121.493] 119.5986478942547 [           3.588]\n",
      "[         137.388] 135.38856616245147 [           3.997]\n",
      "[         131.553] 132.26499954567626 [           0.507]\n",
      "[         127.495] 124.03382102472564 [          11.979]\n",
      "[         114.931] 114.44251513484258 [           0.239]\n",
      "[         102.931] 104.06488480803165 [           1.285]\n",
      "[         135.664] 135.62230267017694 [           0.002]\n",
      "[         120.975] 121.97661389647384 [           1.004]\n",
      "[         127.929] 125.21864546099481 [           7.348]\n",
      "[         131.548] 130.38007561970636 [           1.363]\n",
      "[         107.146] 106.6539622244847 [           0.242]\n",
      "[         124.558] 121.5419746174557 [           9.096]\n",
      "[         107.112] 105.24071999987689 [           3.501]\n",
      "[         120.059] 116.34630402333622 [          13.783]\n",
      "[         146.046] 144.57165006720223 [           2.172]\n",
      "[         123.793] 122.82763215695448 [           0.933]\n",
      "[         111.450] 111.28530332558837 [           0.027]\n",
      "[         105.964] 104.3898321292517 [           2.477]\n",
      "[         139.479] 136.8447474397066 [           6.937]\n",
      "[         115.230] 112.3468755600981 [           8.312]\n",
      "[         111.234] 109.21047413608838 [           4.093]\n",
      "[         127.353] 124.77801403840374 [           6.631]\n",
      "[         149.261] 145.93367367450537 [          11.073]\n",
      "[         133.324] 131.340673521769 [           3.935]\n",
      "[         115.955] 112.16562092536729 [          14.363]\n",
      "[         134.029] 130.56527809750483 [          11.998]\n",
      "[         127.500] 127.62200582670637 [           0.015]\n",
      "[         139.742] 136.1813625844503 [          12.680]\n",
      "[         129.292] 127.21679063260326 [           4.305]\n",
      "[         135.805] 133.28796266130354 [           6.337]\n",
      "[         128.893] 126.67057914516403 [           4.940]\n",
      "[         112.613] 108.94856102679113 [          13.427]\n",
      "[         142.550] 137.65084590968533 [          23.997]\n",
      "[         114.957] 114.00649883084837 [           0.903]\n",
      "[         110.569] 109.0014775512495 [           2.457]\n",
      "[         129.473] 125.7816847670698 [          13.625]\n",
      "[         113.790] 113.06157090636077 [           0.530]\n",
      "[         128.843] 125.90227222747286 [           8.645]\n",
      "[         123.901] 125.2127790871138 [           1.720]\n",
      "[         120.749] 119.28980039300792 [           2.128]\n",
      "[         119.900] 117.80474794223437 [           4.391]\n",
      "[         130.152] 126.38733616226023 [          14.172]\n",
      "[         131.054] 127.83463408873799 [          10.362]\n",
      "[         129.475] 126.16423736298428 [          10.960]\n",
      "[         121.471] 120.67555061429499 [           0.632]\n",
      "[         125.979] 123.79691110104173 [           4.763]\n",
      "[         134.929] 130.64942149228247 [          18.316]\n",
      "[         119.168] 118.99552807795624 [           0.030]\n",
      "[         121.193] 118.4413268465358 [           7.571]\n",
      "[         100.241] 98.9819246022618 [           1.584]\n",
      "[         128.039] 126.28576931485013 [           3.074]\n",
      "[         107.227] 109.1262938299838 [           3.607]\n",
      "[         141.102] 140.9135037622544 [           0.035]\n",
      "[         124.290] 121.73044513030683 [           6.551]\n",
      "[         139.350] 139.60341907380408 [           0.064]\n",
      "[         120.858] 119.1206676896833 [           3.020]\n",
      "[         122.313] 120.81529813560516 [           2.242]\n",
      "[         113.505] 109.64391464876125 [          14.907]\n",
      "[         128.867] 124.80506826285938 [          16.503]\n",
      "[         118.943] 118.19513328363557 [           0.560]\n",
      "[         127.982] 127.2831288221135 [           0.489]\n",
      "[         134.998] 132.442653506504 [           6.532]\n",
      "[         129.464] 124.65116916236965 [          23.166]\n",
      "[         147.238] 143.88185380285938 [          11.262]\n",
      "[         146.025] 143.45546436045095 [           6.602]\n",
      "[         134.547] 131.7453740712436 [           7.847]\n",
      "[         115.956] 111.26025221680138 [          22.053]\n",
      "[         129.706] 128.4941278345625 [           1.468]\n",
      "[         117.272] 110.35940775824906 [          47.780]\n",
      "[         127.004] 124.7952319898367 [           4.880]\n",
      "[         121.219] 122.16008351920736 [           0.885]\n",
      "[         100.060] 100.14310464379412 [           0.007]\n",
      "[         129.544] 129.5865673038465 [           0.002]\n",
      "[         131.254] 128.68280379445437 [           6.613]\n",
      "[         115.415] 113.96720080467342 [           2.097]\n",
      "[         117.126] 115.32414976421084 [           3.245]\n",
      "[         132.513] 132.52959596637595 [           0.000]\n",
      "[         119.525] 115.81991324656099 [          13.728]\n",
      "[         116.295] 114.72248191186863 [           2.473]\n",
      "[         130.853] 128.1959671434441 [           7.059]\n",
      "[         121.249] 121.76043732553666 [           0.261]\n",
      "[         134.563] 130.4783471554493 [          16.682]\n",
      "[         114.694] 111.42516423455892 [          10.684]\n",
      "[         123.707] 121.13308048455976 [           6.626]\n",
      "[         123.552] 119.9247703708746 [          13.157]\n",
      "[         134.491] 134.28542269542675 [           0.042]\n",
      "[         136.566] 135.13578642337285 [           2.047]\n",
      "[         116.662] 114.75689516288419 [           3.629]\n",
      "[         134.285] 131.29258344928044 [           8.956]\n",
      "[         130.840] 128.2074059541093 [           6.930]\n",
      "[         133.947] 128.36756470097552 [          31.133]\n",
      "[         135.847] 132.87464496915118 [           8.833]\n",
      "[         111.385] 111.12380840156644 [           0.068]\n",
      "[         131.223] 130.6002180020904 [           0.388]\n",
      "[         120.326] 117.3371327036634 [           8.934]\n",
      "[         124.116] 121.3575671283485 [           7.611]\n",
      "[         130.198] 128.85415453129275 [           1.807]\n",
      "[         130.553] 128.86294549956742 [           2.857]\n",
      "[         119.356] 115.86301574635495 [          12.198]\n",
      "[         108.162] 109.76251488402508 [           2.560]\n",
      "[         128.190] 124.18567670341429 [          16.033]\n",
      "[         112.666] 110.49805537024228 [           4.702]\n",
      "[         137.713] 136.48557019022547 [           1.508]\n",
      "[         139.444] 139.17533095120373 [           0.072]\n",
      "[         119.852] 119.77998162064087 [           0.005]\n",
      "[         121.134] 119.21261728055475 [           3.692]\n",
      "[         114.932] 111.61966259625162 [          10.973]\n",
      "[         131.450] 130.1047942096091 [           1.809]\n",
      "[         119.593] 121.32201416898874 [           2.991]\n",
      "[         121.597] 119.51312464156402 [           4.344]\n",
      "[         127.896] 126.84995030460466 [           1.093]\n",
      "[         139.717] 136.12836430185772 [          12.878]\n",
      "[         148.993] 146.44736570240678 [           6.482]\n",
      "[         134.477] 132.61677477061494 [           3.460]\n",
      "[         144.386] 140.3413197512799 [          16.357]\n",
      "[         125.032] 124.45690876686649 [           0.331]\n",
      "[         135.484] 131.5576802637664 [          15.415]\n",
      "[         126.215] 123.73630106260718 [           6.143]\n",
      "[         123.756] 123.48131842928095 [           0.075]\n",
      "[         121.456] 120.0416575584163 [           2.002]\n",
      "[         124.696] 122.65302774765969 [           4.172]\n",
      "[         121.432] 121.15166960263355 [           0.078]\n",
      "[         117.120] 113.92799816625565 [          10.191]\n",
      "[         124.569] 124.39867664438991 [           0.029]\n",
      "[         104.080] 104.40631331030313 [           0.107]\n",
      "[         129.305] 127.9423285085208 [           1.857]\n",
      "[         134.968] 133.6589198660341 [           1.714]\n",
      "[         126.241] 123.35971787529515 [           8.300]\n",
      "[         129.963] 127.13792574524622 [           7.979]\n",
      "[         124.656] 121.92037027835924 [           7.482]\n",
      "[         110.226] 108.68216228561354 [           2.383]\n",
      "[         121.182] 118.9144682445675 [           5.143]\n",
      "[         118.916] 117.21914035759133 [           2.879]\n",
      "[         137.573] 134.73849281972224 [           8.037]\n",
      "[         116.889] 114.19942254017583 [           7.236]\n",
      "[         113.022] 111.13637682811978 [           3.557]\n",
      "[         130.482] 127.87130497587485 [           6.813]\n",
      "[         123.898] 122.11655049090407 [           3.173]\n",
      "[         136.342] 132.04984625675007 [          18.422]\n",
      "[         131.421] 130.07675579067228 [           1.808]\n",
      "[         115.365] 114.23498854608823 [           1.277]\n",
      "[         138.088] 136.65060074059383 [           2.065]\n",
      "[         143.611] 142.59454064300598 [           1.032]\n",
      "[         119.581] 118.18511702362363 [           1.950]\n",
      "[         124.171] 119.87476557753956 [          18.456]\n",
      "[         127.801] 126.06863746424041 [           2.999]\n",
      "[          98.916] 96.77610547975954 [           4.580]\n",
      "[         130.226] 130.90086414872218 [           0.455]\n",
      "[         129.133] 128.68694082986144 [           0.199]\n",
      "[         116.182] 115.68034894762253 [           0.251]\n",
      "[         127.686] 126.58050495090757 [           1.222]\n",
      "[         119.863] 119.75369041414453 [           0.012]\n",
      "[         121.100] 121.52739585819907 [           0.183]\n",
      "[         135.674] 131.94241447523237 [          13.925]\n",
      "[         131.869] 131.63404298216142 [           0.055]\n",
      "[         125.691] 123.98918750171167 [           2.896]\n",
      "[         125.202] 126.92365974519296 [           2.965]\n",
      "[         142.204] 142.80640331845586 [           0.363]\n",
      "[          99.715] 98.69855211852922 [           1.034]\n",
      "[         118.980] 118.76457177370203 [           0.046]\n",
      "[         116.688] 113.85492511315472 [           8.029]\n",
      "[         130.093] 126.66433020310906 [          11.752]\n",
      "[         124.331] 121.06925407067152 [          10.642]\n",
      "[         126.188] 123.36957216508945 [           7.943]\n",
      "[         117.460] 115.8712919669535 [           2.523]\n",
      "[         126.333] 125.65537140186665 [           0.459]\n",
      "[         124.101] 123.23103177698425 [           0.757]\n",
      "[         126.043] 122.42871347273704 [          13.060]\n",
      "[         113.597] 111.82513219820547 [           3.141]\n",
      "[         142.062] 141.25471786391648 [           0.651]\n",
      "[         118.944] 114.01175604339643 [          24.322]\n",
      "[         120.877] 115.71608956262438 [          26.639]\n",
      "[         138.524] 135.31720020743776 [          10.286]\n",
      "[         134.300] 132.75829375178813 [           2.376]\n",
      "[         140.777] 134.95812483150442 [          33.865]\n",
      "[         151.989] 151.00056392112137 [           0.978]\n",
      "[         117.665] 117.26229361813792 [           0.162]\n",
      "[         109.694] 108.70473916597041 [           0.978]\n",
      "[         126.699] 125.16350692669705 [           2.358]\n",
      "[         125.155] 123.07188694512637 [           4.341]\n",
      "[         119.630] 116.3856933706888 [          10.528]\n",
      "[         106.143] 106.14902812535323 [           0.000]\n",
      "[         127.027] 124.52557705810709 [           6.258]\n",
      "[         154.949] 153.4437488063746 [           2.265]\n",
      "[         110.076] 108.92339140657198 [           1.329]\n",
      "[         129.876] 126.59781931710238 [          10.745]\n",
      "[         117.180] 117.26687310584381 [           0.008]\n",
      "[         118.253] 117.30216671353352 [           0.905]\n",
      "[         113.837] 112.59779985768229 [           1.536]\n",
      "[         148.603] 145.61322977718206 [           8.940]\n",
      "[         117.043] 116.90712970455189 [           0.018]\n",
      "[         141.221] 138.8986536310434 [           5.394]\n",
      "[         126.653] 123.57891800620591 [           9.451]\n",
      "[         127.133] 123.404982424433 [          13.901]\n",
      "[         125.836] 123.03145959392342 [           7.866]\n",
      "[         116.652] 114.59859691075256 [           4.215]\n",
      "[         143.551] 139.78480365818442 [          14.182]\n",
      "[         122.084] 120.55620843392624 [           2.334]\n",
      "[         122.287] 119.6416803499866 [           6.997]\n",
      "[         119.052] 115.66864061568363 [          11.446]\n",
      "[         148.801] 144.01031770957647 [          22.952]\n",
      "[         121.114] 120.45771491964726 [           0.431]\n",
      "[         122.698] 120.1070301794605 [           6.715]\n",
      "[         110.864] 110.99240290872979 [           0.016]\n",
      "[         101.530] 100.83550676383256 [           0.482]\n",
      "[         116.227] 112.73061809547424 [          12.228]\n",
      "[         115.957] 114.33921221987379 [           2.618]\n",
      "[         122.292] 120.27872462104133 [           4.053]\n",
      "[         114.687] 111.81711211404486 [           8.235]\n",
      "[         121.165] 121.67075352893433 [           0.255]\n",
      "[         123.678] 124.21687745174187 [           0.290]\n",
      "[         132.518] 130.77151617600532 [           3.049]\n",
      "[         121.285] 119.5791788065185 [           2.910]\n",
      "[         118.308] 113.33538566164265 [          24.730]\n",
      "[         140.640] 139.58557665630252 [           1.112]\n",
      "[         115.379] 114.10889130705525 [           1.613]\n",
      "[         120.774] 119.87063897351119 [           0.816]\n",
      "[         123.929] 120.94814077532259 [           8.885]\n"
     ]
    },
    {
     "data": {
      "text/plain": [
       "'\\nerrors = []\\nfor i in range(len(x)):\\n    pred = model.predict(x[i])\\n    #print(\"Model, out_signal:\", model.layers[-1].W.dot(np.append(x, 1)))\\n    print(\"pred:\", pred)\\n    print(\"True_\", y[i])\\n    if sum(pred) == 0:\\n        print(model.layers[-1].gradients)\\n    \\n    errors.append(np.sum(model.compute_gradient(x[i], y[i])))\\n    model.update_layers(alpha = 0.003)\\n    print()\\n    #print(model.layers[-1].gradients)\\nprint(np.argmin(errors))\\nprint(y[0])\\n\\nplt.plot(errors)\\n\\nplt.show()\\n'"
      ]
     },
     "execution_count": 57,
     "metadata": {},
     "output_type": "execute_result"
    }
   ],
   "source": [
    "x = np.multiply(np.random.random_sample((300, inp_size)), np.random.random_integers(0, 5))\n",
    "y = np.sum(x, axis = 1)\n",
    "print(x[0].shape, y[0])\n",
    "\n",
    "model.train(x, y, alpha = 0.003, batch_size= 50, epochs = 10)\n",
    "\n",
    "for i, j in zip(x, y):\n",
    "    p = model.predict(i)\n",
    "    print(p, j, (p-j) * (p-j))\n",
    "\n",
    "\"\"\"\n",
    "errors = []\n",
    "for i in range(len(x)):\n",
    "    pred = model.predict(x[i])\n",
    "    #print(\"Model, out_signal:\", model.layers[-1].W.dot(np.append(x, 1)))\n",
    "    print(\"pred:\", pred)\n",
    "    print(\"True_\", y[i])\n",
    "    if sum(pred) == 0:\n",
    "        print(model.layers[-1].gradients)\n",
    "    \n",
    "    errors.append(np.sum(model.compute_gradient(x[i], y[i])))\n",
    "    model.update_layers(alpha = 0.003)\n",
    "    print()\n",
    "    #print(model.layers[-1].gradients)\n",
    "print(np.argmin(errors))\n",
    "print(y[0])\n",
    "\n",
    "plt.plot(errors)\n",
    "\n",
    "plt.show()\n",
    "\"\"\""
   ]
  },
  {
   "cell_type": "code",
   "execution_count": 65,
   "metadata": {
    "ExecuteTime": {
     "end_time": "2021-09-20T12:52:52.784491Z",
     "start_time": "2021-09-20T12:52:52.618069Z"
    }
   },
   "outputs": [],
   "source": [
    "colors = ['tab:blue', 'tab:orange', 'tab:green', 'tab:red', 'tab:purple', 'tab:olive']\n",
    "# Encode all points to the latent representation\n",
    "def get_latent_space(model, points):\n",
    "    \n",
    "    latent_space = []\n",
    "    \n",
    "    for p in points:\n",
    "\n",
    "        latent_space.append(model.predict(p))\n",
    "\n",
    "    return np.array(latent_space)\n",
    "    \n",
    "# Get cluster centres   \n",
    "def compute_clusters(labels, space):\n",
    "    \n",
    "    clusters = []\n",
    "    num_clusters = len(np.unique(labels))\n",
    "\n",
    "    if len(clusters) == 0:\n",
    "        rang = np.arange(len(space))\n",
    "        np.random.shuffle(rang)\n",
    "\n",
    "        # Make each cluster the center of all generated points\n",
    "        for lab in np.unique(labels):\n",
    "\n",
    "            # Get the points belonging to the label\n",
    "            labeled_points = space[labels == lab]\n",
    "\n",
    "            # Take the mean of them and make that the cluster center\n",
    "            clusters.append(np.mean(labeled_points, axis = 0))\n",
    "    \n",
    "    return clusters\n",
    "\n",
    "def plot_clusters(clusters, colors):\n",
    "    \n",
    "    for cluster, color in zip(clusters, colors):\n",
    "        plt.scatter(cluster[0], cluster[1], color = color)\n",
    "        \n",
    "    plt.show()\n",
    "    \n",
    "def plot_clasified_points(model, points, labels, colors):\n",
    "    \n",
    "    # Calculate latent representation\n",
    "    latent_space = get_latent_space(model, points)\n",
    "    \n",
    "    for lab, color in zip(np.unique(labels), colors):\n",
    "\n",
    "            # Get the points belonging to the label\n",
    "        labeled_points = latent_space[labels == lab]\n",
    "\n",
    "            # plot them\n",
    "        plt.scatter(labeled_points.T[0], labeled_points.T[1], color = color)\n",
    "\n",
    "    plt.show()\n",
    "\n",
    "# Move clusters according to the separation formula\n",
    "def separate_clusters(clusters, alpha = 5):\n",
    "    \n",
    "    moved_clusters = []\n",
    "\n",
    "    for cluster in clusters:\n",
    "\n",
    "        movement_sum = 0\n",
    "        for other_cluster in clusters:\n",
    "\n",
    "            #dist = alpha * 1/(cluster - other_cluster)\n",
    "            dist = radial_basis_function(cluster, other_cluster, alpha)*5\n",
    "            dist[dist == np.Inf] = 0\n",
    "            movement_sum += dist\n",
    "\n",
    "        #print(cluster, movement_sum)\n",
    "        movement_sum = cluster + movement_sum\n",
    "\n",
    "        moved_clusters.append(movement_sum)\n",
    "\n",
    "\n",
    "    return np.array(moved_clusters)\n"
   ]
  },
  {
   "cell_type": "code",
   "execution_count": 66,
   "metadata": {
    "ExecuteTime": {
     "end_time": "2021-09-20T12:52:53.474385Z",
     "start_time": "2021-09-20T12:52:53.453385Z"
    }
   },
   "outputs": [
    {
     "name": "stdout",
     "output_type": "stream",
     "text": [
      "[           0.412            0.675            0.250            0.313            0.965]\n"
     ]
    }
   ],
   "source": [
    "# Create data points\n",
    "size = 100\n",
    "points = np.random.random_sample((size, 5))\n",
    "labels = np.random.randint(3, size = size)\n",
    "\n",
    "print(points[0])"
   ]
  },
  {
   "cell_type": "code",
   "execution_count": 69,
   "metadata": {
    "ExecuteTime": {
     "end_time": "2021-09-21T07:08:46.866907Z",
     "start_time": "2021-09-21T07:08:16.675194Z"
    },
    "scrolled": false
   },
   "outputs": [
    {
     "data": {
      "image/png": "[encoded data removed]",
      "text/plain": [
       "<matplotlib.figure.Figure at 0x1d95c3f8e48>"
      ]
     },
     "metadata": {},
     "output_type": "display_data"
    },
    {
     "data": {
      "image/png": "[encoded data removed]",
      "text/plain": [
       "<matplotlib.figure.Figure at 0x1d95c814978>"
      ]
     },
     "metadata": {},
     "output_type": "display_data"
    },
    {
     "data": {
      "image/png": "[encoded data removed]",
      "text/plain": [
       "<matplotlib.figure.Figure at 0x1d95d086978>"
      ]
     },
     "metadata": {},
     "output_type": "display_data"
    },
    {
     "data": {
      "image/png": "[encoded data removed]",
      "text/plain": [
       "<matplotlib.figure.Figure at 0x1d95c6295c0>"
      ]
     },
     "metadata": {},
     "output_type": "display_data"
    },
    {
     "data": {
      "image/png": "[encoded data removed]",
      "text/plain": [
       "<matplotlib.figure.Figure at 0x1d95cea7860>"
      ]
     },
     "metadata": {},
     "output_type": "display_data"
    }
   ],
   "source": [
    "# Make the model\n",
    "np.random.seed(0)\n",
    "model = Model()\n",
    "model.add(fullyConnected((4, 5), activation = sigmoid))\n",
    "model.add(fullyConnected((3, 4), activation = sigmoid))\n",
    "model.add(fullyConnected((2, 3), activation = sigmoid))\n",
    "\n",
    "latent_space = get_latent_space(model, points)\n",
    "\n",
    "clusters = compute_clusters(labels, latent_space)\n",
    "\n",
    "plt.title(\"clusters\")\n",
    "plot_clusters(clusters, colors)\n",
    "\n",
    "cluster_alpha = 0.000001\n",
    "clusters = separate_clusters(clusters, alpha = cluster_alpha)\n",
    "\n",
    "plt.title(\"clusters\")\n",
    "plot_clusters(clusters, colors)\n",
    "\n",
    "plt.title(\"latent_space\")\n",
    "plot_clasified_points(model, points, labels, colors)\n",
    "\n",
    "\n",
    "for i in range(5):\n",
    "    \n",
    "    \n",
    "    clusters = compute_clusters(labels, latent_space)\n",
    "\n",
    "    clusters = separate_clusters(clusters, alpha = cluster_alpha)\n",
    "    \n",
    "    # List of clusters such that the cluster corresponds with the labels\n",
    "    clusters_ordered = [clusters[y] for y in labels]\n",
    "\n",
    "    errors = model.train(points, clusters_ordered, epochs = 200, alpha = 0.0003, batch_size= 32, shuffle=False)\n",
    "    #plot_clasified_points(model, points, labels, colors)\n",
    "    latent_space = get_latent_space(model, points)\n",
    "\n",
    "    \n",
    "plt.title(\"clusters\")\n",
    "plot_clusters(clusters, colors)\n",
    "plt.title(\"points\")\n",
    "plot_clasified_points(model, points, labels, colors)\n",
    "    "
   ]
  },
  {
   "cell_type": "code",
   "execution_count": 62,
   "metadata": {
    "ExecuteTime": {
     "end_time": "2021-09-20T11:59:27.679676Z",
     "start_time": "2021-09-20T11:59:26.998572Z"
    },
    "scrolled": true
   },
   "outputs": [
    {
     "ename": "NameError",
     "evalue": "name 'Connected_layer' is not defined",
     "output_type": "error",
     "traceback": [
      "\u001b[1;31m---------------------------------------------------------------------------\u001b[0m",
      "\u001b[1;31mNameError\u001b[0m                                 Traceback (most recent call last)",
      "\u001b[1;32m<ipython-input-62-e211cc19d0c8>\u001b[0m in \u001b[0;36m<module>\u001b[1;34m()\u001b[0m\n\u001b[0;32m      1\u001b[0m \u001b[0mmodel\u001b[0m \u001b[1;33m=\u001b[0m \u001b[0mModel\u001b[0m\u001b[1;33m(\u001b[0m\u001b[1;33m)\u001b[0m\u001b[1;33m\u001b[0m\u001b[0m\n\u001b[1;32m----> 2\u001b[1;33m \u001b[0mmodel\u001b[0m\u001b[1;33m.\u001b[0m\u001b[0madd\u001b[0m\u001b[1;33m(\u001b[0m\u001b[0mConnected_layer\u001b[0m\u001b[1;33m(\u001b[0m\u001b[1;33m(\u001b[0m\u001b[1;36m3\u001b[0m\u001b[1;33m,\u001b[0m \u001b[1;36m5\u001b[0m\u001b[1;33m)\u001b[0m\u001b[1;33m,\u001b[0m \u001b[0mactivation\u001b[0m \u001b[1;33m=\u001b[0m \u001b[0mtanh\u001b[0m\u001b[1;33m)\u001b[0m\u001b[1;33m)\u001b[0m\u001b[1;33m\u001b[0m\u001b[0m\n\u001b[0m\u001b[0;32m      3\u001b[0m \u001b[0mmodel\u001b[0m\u001b[1;33m.\u001b[0m\u001b[0madd\u001b[0m\u001b[1;33m(\u001b[0m\u001b[0mConnected_layer\u001b[0m\u001b[1;33m(\u001b[0m\u001b[1;33m(\u001b[0m\u001b[1;36m2\u001b[0m\u001b[1;33m,\u001b[0m \u001b[1;36m3\u001b[0m\u001b[1;33m)\u001b[0m\u001b[1;33m,\u001b[0m \u001b[0mactivation\u001b[0m \u001b[1;33m=\u001b[0m \u001b[0mtanh\u001b[0m\u001b[1;33m)\u001b[0m\u001b[1;33m)\u001b[0m\u001b[1;33m\u001b[0m\u001b[0m\n\u001b[0;32m      4\u001b[0m \u001b[0mclusters\u001b[0m \u001b[1;33m=\u001b[0m \u001b[1;33m[\u001b[0m\u001b[1;33m]\u001b[0m\u001b[1;33m\u001b[0m\u001b[0m\n\u001b[0;32m      5\u001b[0m \u001b[0mcolors\u001b[0m \u001b[1;33m=\u001b[0m \u001b[1;33m[\u001b[0m\u001b[1;34m'tab:blue'\u001b[0m\u001b[1;33m,\u001b[0m \u001b[1;34m'tab:orange'\u001b[0m\u001b[1;33m,\u001b[0m \u001b[1;34m'tab:green'\u001b[0m\u001b[1;33m,\u001b[0m \u001b[1;34m'tab:red'\u001b[0m\u001b[1;33m,\u001b[0m \u001b[1;34m'tab:purple'\u001b[0m\u001b[1;33m,\u001b[0m \u001b[1;34m'tab:olive'\u001b[0m\u001b[1;33m]\u001b[0m\u001b[1;33m\u001b[0m\u001b[0m\n",
      "\u001b[1;31mNameError\u001b[0m: name 'Connected_layer' is not defined"
     ]
    }
   ],
   "source": [
    "model = Model()\n",
    "model.add(Connected_layer((3, 5), activation = tanh))\n",
    "model.add(Connected_layer((2, 3), activation = tanh))\n",
    "clusters = []\n",
    "colors = ['tab:blue', 'tab:orange', 'tab:green', 'tab:red', 'tab:purple', 'tab:olive']\n",
    "\n",
    "# Encode all points to the latent representation\n",
    "latent_space = []\n",
    "for p in points:\n",
    "    \n",
    "    latent_space.append(model.predict(p))\n",
    "    \n",
    "latent_space = np.array(latent_space)\n",
    "\n",
    "# Get cluster centres (if they dont already exist)\n",
    "num_clusters = len(np.unique(labels))\n",
    "    \n",
    "if len(clusters) == 0:\n",
    "    rang = np.arange(len(latent_space))\n",
    "    np.random.shuffle(rang)\n",
    "\n",
    "    # Make each cluster the center of all generated points\n",
    "    for lab, color in zip(np.unique(labels), colors):\n",
    "        \n",
    "        # Get the points belonging to the label\n",
    "        labeled_points = latent_space[labels == lab]\n",
    "\n",
    "        # Take the mean of them and make that the cluster center\n",
    "        clusters.append(np.mean(labeled_points, axis = 0))\n",
    "        \n",
    "        # Scatter them for fun\n",
    "        plt.scatter(labeled_points.T[0], labeled_points.T[1], color = color)\n",
    "\n",
    "        \n",
    "plt.show()\n",
    "#for j in clusters:\n",
    "#    plt.scatter(j[0], j[1])\n",
    "    \n",
    "#plt.show()\n",
    "plt.title(\"initial cluster\")\n",
    "for cluster, color in zip(clusters, colors):\n",
    "    plt.scatter(cluster[0], cluster[1], color = color)\n",
    "plt.show()\n",
    "\n",
    "# Move clusters according to the separation formula\n",
    "alpha = 5\n",
    "sums = []\n",
    "\n",
    "for cluster in clusters:\n",
    "    \n",
    "    movement_sum = 0\n",
    "    for other_cluster in clusters:\n",
    "        \n",
    "        dist = alpha * (cluster - other_cluster)\n",
    "        dist[dist == np.Inf] = 0\n",
    "        movement_sum += dist\n",
    "        \n",
    "    print(cluster, movement_sum)\n",
    "    movement_sum = cluster + movement_sum\n",
    "    \n",
    "    sums.append(movement_sum)\n",
    "\n",
    "    \n",
    "\n",
    "clusters = np.array(sums)\n",
    "\n",
    "plt.title(\"initial cluster\")\n",
    "for cluster, color in zip(clusters, colors):\n",
    "    plt.scatter(cluster[0], cluster[1], color = color)\n",
    "plt.show()\n",
    "\n",
    "print(clusters)\n",
    "# Show initial clustering\n",
    "point_array = get_cluster_belonging(clusters, latent_space)\n",
    "print(\"initial\")\n",
    "i = 0\n",
    "for c, color in zip(point_array, colors):\n",
    "    if len(c) > 0:\n",
    "        plt.scatter(np.array(c).T[0], np.array(c).T[1], color = color)\n",
    "plt.show()\n",
    "\n",
    "print(\"####TRAINING####\")\n",
    "# Now, how to update the model?\n",
    "\n",
    "clusters_ordered = [clusters[y] for y in labels]\n",
    "for i in range(50):\n",
    "    \n",
    "    clusters = []\n",
    "    # Make each cluster the center of all generated points\n",
    "    for lab, color in zip(np.unique(labels), colors):\n",
    "        \n",
    "        # Get the points belonging to the label\n",
    "        labeled_points = latent_space[labels == lab]\n",
    "\n",
    "        # Take the mean of them and make that the cluster center\n",
    "        clusters.append(np.mean(labeled_points, axis = 0))\n",
    "        \n",
    "        # Scatter them for fun\n",
    "        #plt.scatter(labeled_points.T[0], labeled_points.T[1], color = color)\n",
    "    \n",
    "    sums = []\n",
    "\n",
    "    for cluster in clusters:\n",
    "\n",
    "        movement_sum = 0\n",
    "        for other_cluster in clusters:\n",
    "\n",
    "            dist = alpha * (cluster - other_cluster)\n",
    "            dist[dist == np.Inf] = 0\n",
    "            movement_sum += dist\n",
    "\n",
    "        print(cluster, movement_sum)\n",
    "        movement_sum = cluster + movement_sum\n",
    "\n",
    "        sums.append(movement_sum)\n",
    "\n",
    "\n",
    "\n",
    "    clusters = np.array(sums)\n",
    "    \n",
    "    for epochs in range(40):\n",
    "        \n",
    "        \n",
    "        errors = model.batch_update(points, clusters_ordered, alpha = 0.03)\n",
    "        \n",
    "    #print(errors)\n",
    "        #for x, y in zip(points, labels):\n",
    "\n",
    "            \n",
    "\n",
    "    latent_space = []\n",
    "    # Show initial clustering\n",
    "    for p in points:\n",
    "    \n",
    "        latent_space.append(model.predict(p))\n",
    "    \n",
    "    latent_space = np.array(latent_space)\n",
    "    \n",
    "    point_array = get_cluster_belonging(clusters, latent_space)\n",
    "    print(\"Epoch\", i)\n",
    "    i = 0\n",
    "    for c, color in zip(point_array, colors):\n",
    "        if len(c) > 0:\n",
    "            plt.scatter(np.array(c).T[0], np.array(c).T[1], color = color)\n",
    "    plt.show()\n",
    "    \n",
    "\n",
    "    \n"
   ]
  },
  {
   "cell_type": "code",
   "execution_count": 172,
   "metadata": {
    "ExecuteTime": {
     "end_time": "2021-08-25T08:21:57.683514Z",
     "start_time": "2021-08-25T08:21:57.474795Z"
    }
   },
   "outputs": [
    {
     "name": "stdout",
     "output_type": "stream",
     "text": [
      "Latent Space:\n"
     ]
    },
    {
     "data": {
      "image/png": "[encoded data removed]",
      "text/plain": [
       "<matplotlib.figure.Figure at 0x17d7584e4a8>"
      ]
     },
     "metadata": {},
     "output_type": "display_data"
    }
   ],
   "source": [
    "print(\"Latent Space:\")\n",
    "plot_clasified_points(model, points, labels, colors)"
   ]
  },
  {
   "cell_type": "code",
   "execution_count": null,
   "metadata": {
    "ExecuteTime": {
     "end_time": "2021-08-25T08:21:47.027962Z",
     "start_time": "2021-08-25T08:21:46.865352Z"
    }
   },
   "outputs": [],
   "source": []
  },
  {
   "cell_type": "code",
   "execution_count": 116,
   "metadata": {
    "ExecuteTime": {
     "end_time": "2021-08-25T07:58:01.450091Z",
     "start_time": "2021-08-25T07:58:01.294015Z"
    }
   },
   "outputs": [
    {
     "data": {
      "image/png": "[encoded data removed]",
      "text/plain": [
       "<matplotlib.figure.Figure at 0x17d74322fd0>"
      ]
     },
     "metadata": {},
     "output_type": "display_data"
    }
   ],
   "source": [
    "plt.scatter(np.array(latent_space).T[0], np.array(latent_space).T[1])\n",
    "plt.show()"
   ]
  },
  {
   "cell_type": "code",
   "execution_count": 117,
   "metadata": {
    "ExecuteTime": {
     "end_time": "2021-08-25T07:58:02.992774Z",
     "start_time": "2021-08-25T07:58:02.972812Z"
    }
   },
   "outputs": [],
   "source": [
    "def one_hot_encode(x, num_classes = 6):\n",
    "    ret = []\n",
    "    for i in x:\n",
    "        arr = [0 for i in range(num_classes)]\n",
    "        arr[i] = 1\n",
    "        ret.append(np.array(arr))\n",
    "    ret = np.array(ret)\n",
    "    return ret\n",
    "encoded_labels = one_hot_encode(labels, num_classes = 3)"
   ]
  },
  {
   "cell_type": "code",
   "execution_count": 63,
   "metadata": {
    "ExecuteTime": {
     "end_time": "2021-08-17T14:57:04.714845Z",
     "start_time": "2021-08-17T14:57:04.699831Z"
    }
   },
   "outputs": [
    {
     "data": {
      "text/plain": [
       "array([[1, 0, 0],\n",
       "       [1, 0, 0],\n",
       "       [0, 0, 1],\n",
       "       ...,\n",
       "       [0, 0, 1],\n",
       "       [1, 0, 0],\n",
       "       [0, 0, 1]])"
      ]
     },
     "execution_count": 63,
     "metadata": {},
     "output_type": "execute_result"
    }
   ],
   "source": [
    "encoded_labels"
   ]
  },
  {
   "cell_type": "code",
   "execution_count": 165,
   "metadata": {
    "ExecuteTime": {
     "end_time": "2021-08-25T08:10:04.577087Z",
     "start_time": "2021-08-25T08:10:00.565000Z"
    }
   },
   "outputs": [
    {
     "name": "stdout",
     "output_type": "stream",
     "text": [
      "epoch: 0\n",
      "epoch: 1\n",
      "epoch: 2\n",
      "epoch: 3\n",
      "epoch: 4\n",
      "epoch: 5\n",
      "epoch: 6\n",
      "epoch: 7\n",
      "epoch: 8\n",
      "epoch: 9\n",
      "epoch: 10\n",
      "epoch: 11\n",
      "epoch: 12\n",
      "epoch: 13\n",
      "epoch: 14\n",
      "epoch: 15\n",
      "epoch: 16\n",
      "epoch: 17\n",
      "epoch: 18\n",
      "epoch: 19\n",
      "epoch: 20\n",
      "epoch: 21\n",
      "epoch: 22\n",
      "epoch: 23\n",
      "epoch: 24\n",
      "epoch: 25\n",
      "epoch: 26\n",
      "epoch: 27\n",
      "epoch: 28\n",
      "epoch: 29\n",
      "epoch: 30\n",
      "epoch: 31\n",
      "epoch: 32\n",
      "epoch: 33\n",
      "epoch: 34\n",
      "epoch: 35\n",
      "epoch: 36\n",
      "epoch: 37\n",
      "epoch: 38\n",
      "epoch: 39\n",
      "epoch: 40\n",
      "epoch: 41\n",
      "epoch: 42\n",
      "epoch: 43\n",
      "epoch: 44\n",
      "epoch: 45\n",
      "epoch: 46\n",
      "epoch: 47\n",
      "epoch: 48\n",
      "epoch: 49\n",
      "epoch: 50\n",
      "epoch: 51\n",
      "epoch: 52\n",
      "epoch: 53\n",
      "epoch: 54\n",
      "epoch: 55\n",
      "epoch: 56\n",
      "epoch: 57\n",
      "epoch: 58\n",
      "epoch: 59\n",
      "epoch: 60\n",
      "epoch: 61\n",
      "epoch: 62\n",
      "epoch: 63\n",
      "epoch: 64\n",
      "epoch: 65\n",
      "epoch: 66\n",
      "epoch: 67\n",
      "epoch: 68\n",
      "epoch: 69\n",
      "epoch: 70\n",
      "epoch: 71\n",
      "epoch: 72\n",
      "epoch: 73\n",
      "epoch: 74\n",
      "epoch: 75\n",
      "epoch: 76\n",
      "epoch: 77\n",
      "epoch: 78\n",
      "epoch: 79\n",
      "epoch: 80\n",
      "epoch: 81\n",
      "epoch: 82\n",
      "epoch: 83\n",
      "epoch: 84\n",
      "epoch: 85\n",
      "epoch: 86\n",
      "epoch: 87\n",
      "epoch: 88\n",
      "epoch: 89\n",
      "epoch: 90\n",
      "epoch: 91\n",
      "epoch: 92\n",
      "epoch: 93\n",
      "epoch: 94\n",
      "epoch: 95\n",
      "epoch: 96\n",
      "epoch: 97\n",
      "epoch: 98\n",
      "epoch: 99\n",
      "epoch: 100\n",
      "epoch: 101\n",
      "epoch: 102\n",
      "epoch: 103\n",
      "epoch: 104\n",
      "epoch: 105\n",
      "epoch: 106\n",
      "epoch: 107\n",
      "epoch: 108\n",
      "epoch: 109\n",
      "epoch: 110\n",
      "epoch: 111\n",
      "epoch: 112\n",
      "epoch: 113\n",
      "epoch: 114\n",
      "epoch: 115\n",
      "epoch: 116\n",
      "epoch: 117\n",
      "epoch: 118\n",
      "epoch: 119\n",
      "epoch: 120\n",
      "epoch: 121\n",
      "epoch: 122\n",
      "epoch: 123\n",
      "epoch: 124\n",
      "epoch: 125\n",
      "epoch: 126\n",
      "epoch: 127\n",
      "epoch: 128\n",
      "epoch: 129\n",
      "epoch: 130\n",
      "epoch: 131\n",
      "epoch: 132\n",
      "epoch: 133\n",
      "epoch: 134\n",
      "epoch: 135\n",
      "epoch: 136\n",
      "epoch: 137\n",
      "epoch: 138\n",
      "epoch: 139\n",
      "epoch: 140\n",
      "epoch: 141\n",
      "epoch: 142\n",
      "epoch: 143\n",
      "epoch: 144\n",
      "epoch: 145\n",
      "epoch: 146\n",
      "epoch: 147\n",
      "epoch: 148\n",
      "epoch: 149\n",
      "epoch: 150\n",
      "epoch: 151\n",
      "epoch: 152\n",
      "epoch: 153\n",
      "epoch: 154\n",
      "epoch: 155\n",
      "epoch: 156\n",
      "epoch: 157\n",
      "epoch: 158\n",
      "epoch: 159\n",
      "epoch: 160\n",
      "epoch: 161\n",
      "epoch: 162\n",
      "epoch: 163\n",
      "epoch: 164\n",
      "epoch: 165\n",
      "epoch: 166\n",
      "epoch: 167\n",
      "epoch: 168\n",
      "epoch: 169\n",
      "epoch: 170\n",
      "epoch: 171\n",
      "epoch: 172\n",
      "epoch: 173\n",
      "epoch: 174\n",
      "epoch: 175\n",
      "epoch: 176\n",
      "epoch: 177\n",
      "epoch: 178\n",
      "epoch: 179\n",
      "epoch: 180\n",
      "epoch: 181\n",
      "epoch: 182\n",
      "epoch: 183\n",
      "epoch: 184\n",
      "epoch: 185\n",
      "epoch: 186\n",
      "epoch: 187\n",
      "epoch: 188\n",
      "epoch: 189\n",
      "epoch: 190\n",
      "epoch: 191\n",
      "epoch: 192\n",
      "epoch: 193\n",
      "epoch: 194\n",
      "epoch: 195\n",
      "epoch: 196\n",
      "epoch: 197\n",
      "epoch: 198\n",
      "epoch: 199\n",
      "epoch: 200\n",
      "epoch: 201\n",
      "epoch: 202\n",
      "epoch: 203\n",
      "epoch: 204\n",
      "epoch: 205\n",
      "epoch: 206\n",
      "epoch: 207\n",
      "epoch: 208\n",
      "epoch: 209\n",
      "epoch: 210\n",
      "epoch: 211\n",
      "epoch: 212\n",
      "epoch: 213\n",
      "epoch: 214\n",
      "epoch: 215\n",
      "epoch: 216\n",
      "epoch: 217\n",
      "epoch: 218\n",
      "epoch: 219\n",
      "epoch: 220\n",
      "epoch: 221\n",
      "epoch: 222\n",
      "epoch: 223\n",
      "epoch: 224\n",
      "epoch: 225\n",
      "epoch: 226\n",
      "epoch: 227\n",
      "epoch: 228\n",
      "epoch: 229\n",
      "epoch: 230\n",
      "epoch: 231\n",
      "epoch: 232\n",
      "epoch: 233\n",
      "epoch: 234\n",
      "epoch: 235\n",
      "epoch: 236\n",
      "epoch: 237\n",
      "epoch: 238\n",
      "epoch: 239\n",
      "epoch: 240\n",
      "epoch: 241\n",
      "epoch: 242\n",
      "epoch: 243\n",
      "epoch: 244\n",
      "epoch: 245\n",
      "epoch: 246\n",
      "epoch: 247\n",
      "epoch: 248\n",
      "epoch: 249\n",
      "epoch: 250\n",
      "epoch: 251\n",
      "epoch: 252\n",
      "epoch: 253\n",
      "epoch: 254\n",
      "epoch: 255\n",
      "epoch: 256\n",
      "epoch: 257\n",
      "epoch: 258\n",
      "epoch: 259\n",
      "epoch: 260\n",
      "epoch: 261\n",
      "epoch: 262\n",
      "epoch: 263\n",
      "epoch: 264\n",
      "epoch: 265\n",
      "epoch: 266\n",
      "epoch: 267\n",
      "epoch: 268\n",
      "epoch: 269\n",
      "epoch: 270\n",
      "epoch: 271\n",
      "epoch: 272\n",
      "epoch: 273\n",
      "epoch: 274\n",
      "epoch: 275\n",
      "epoch: 276\n",
      "epoch: 277\n",
      "epoch: 278\n",
      "epoch: 279\n",
      "epoch: 280\n",
      "epoch: 281\n",
      "epoch: 282\n",
      "epoch: 283\n",
      "epoch: 284\n",
      "epoch: 285\n",
      "epoch: 286\n",
      "epoch: 287\n",
      "epoch: 288\n",
      "epoch: 289\n",
      "epoch: 290\n",
      "epoch: 291\n",
      "epoch: 292\n",
      "epoch: 293\n",
      "epoch: 294\n",
      "epoch: 295\n",
      "epoch: 296\n",
      "epoch: 297\n",
      "epoch: 298\n",
      "epoch: 299\n"
     ]
    }
   ],
   "source": [
    "model = Model()\n",
    "model.add(Connected_layer((4, 5), activation = tanh))\n",
    "#model.add(Connected_layer((10, 10), activation = tanh))\n",
    "model.add(Connected_layer((3, 4), activation = tanh))\n",
    "\n",
    "model.train(points, encoded_labels, epochs=300, alpha = 0.007, batch_size= 16, shuffle=True)"
   ]
  },
  {
   "cell_type": "code",
   "execution_count": 166,
   "metadata": {
    "ExecuteTime": {
     "end_time": "2021-08-25T08:10:04.593087Z",
     "start_time": "2021-08-25T08:10:04.579089Z"
    }
   },
   "outputs": [
    {
     "name": "stdout",
     "output_type": "stream",
     "text": [
      "0.46\n"
     ]
    }
   ],
   "source": [
    "acc = 0\n",
    "for p, l in zip(points, labels):\n",
    "\n",
    "    pred = model.predict(p)\n",
    "    \n",
    "    if np.argmax(pred) == l: \n",
    "        acc += 1\n",
    "\n",
    "        \n",
    "print(acc/ len(points))"
   ]
  },
  {
   "cell_type": "code",
   "execution_count": null,
   "metadata": {
    "ExecuteTime": {
     "end_time": "2021-08-25T08:07:38.834221Z",
     "start_time": "2021-08-25T08:07:38.826226Z"
    }
   },
   "outputs": [],
   "source": []
  },
  {
   "cell_type": "code",
   "execution_count": null,
   "metadata": {},
   "outputs": [],
   "source": []
  }
 ],
 "metadata": {
  "kernelspec": {
   "display_name": "Python 3",
   "language": "python",
   "name": "python3"
  },
  "language_info": {
   "codemirror_mode": {
    "name": "ipython",
    "version": 3
   },
   "file_extension": ".py",
   "mimetype": "text/x-python",
   "name": "python",
   "nbconvert_exporter": "python",
   "pygments_lexer": "ipython3",
   "version": "3.6.2"
  },
  "latex_envs": {
   "LaTeX_envs_menu_present": true,
   "autoclose": false,
   "autocomplete": true,
   "bibliofile": "biblio.bib",
   "cite_by": "apalike",
   "current_citInitial": 1,
   "eqLabelWithNumbers": true,
   "eqNumInitial": 1,
   "hotkeys": {
    "equation": "Ctrl-E",
    "itemize": "Ctrl-I"
   },
   "labels_anchors": false,
   "latex_user_defs": false,
   "report_style_numbering": false,
   "user_envs_cfg": false
  }
 },
 "nbformat": 4,
 "nbformat_minor": 5
}
